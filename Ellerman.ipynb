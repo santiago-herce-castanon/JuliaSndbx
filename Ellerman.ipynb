{
 "cells": [
  {
   "cell_type": "markdown",
   "metadata": {},
   "source": [
    "Code to play with the ideas of probabilities with superpositions of events from the article by David Ellerman"
   ]
  },
  {
   "cell_type": "markdown",
   "metadata": {},
   "source": [
    "Let's start by taking a set of outcomes to be the suits of a deck of cards: \n",
    "U = {♣, ♦, ♥, ♠}\n",
    "We then create two partitions of that outcome set: \n",
    "π = {B1 , B2 } = {{♦, ♥} , {♣, ♠}}\n",
    "\n",
    "Events ui , uk ∈ S are superposed with an amplitude of: \n",
    "ρ(ΣS)ik = sqrt( (pi/Pr(S)) * (pk/Pr(S)) ).\n",
    "\n",
    "Superposition events can be pure or mixed. Superposition events are pure when their density matrices equals their square, i.e., p = p^2 (when they are stationary?)."
   ]
  },
  {
   "cell_type": "code",
   "execution_count": 11,
   "metadata": {},
   "outputs": [
    {
     "name": "stdout",
     "output_type": "stream",
     "text": [
      "4×4 Matrix{Float64}:\n",
      " 0.0  0.0  0.0  0.0\n",
      " 0.0  0.5  0.5  0.0\n",
      " 0.0  0.5  0.5  0.0\n",
      " 0.0  0.0  0.0  0.0nothing4×4 Matrix{Float64}:\n",
      " 0.5  0.0  0.0  0.5\n",
      " 0.0  0.0  0.0  0.0\n",
      " 0.0  0.0  0.0  0.0\n",
      " 0.5  0.0  0.0  0.5nothing"
     ]
    }
   ],
   "source": [
    "#= \n",
    "\n",
    "=#\n",
    "\n",
    "B1 = [0 0 0 0; 0 .5 .5 0; 0 .5 .5 0; 0 0 0 0];\n",
    "B2 = [.5 0 0 .5; 0 0 0 0; 0 0 0 0; .5 0 0 .5];\n",
    "\n",
    "#print(B1^2)\n",
    "show(stdout, \"text/plain\", B1^2)\n",
    "#print(B2^2)\n",
    "show(stdout, \"text/plain\", B2^2)\n"
   ]
  },
  {
   "cell_type": "code",
   "execution_count": null,
   "metadata": {},
   "outputs": [],
   "source": []
  }
 ],
 "metadata": {
  "kernelspec": {
   "display_name": "Julia 1.8.1",
   "language": "julia",
   "name": "julia-1.8"
  },
  "language_info": {
   "file_extension": ".jl",
   "mimetype": "application/julia",
   "name": "julia",
   "version": "1.8.1"
  },
  "orig_nbformat": 4,
  "vscode": {
   "interpreter": {
    "hash": "916dbcbb3f70747c44a77c7bcd40155683ae19c65e1c03b4aa3499c5328201f1"
   }
  }
 },
 "nbformat": 4,
 "nbformat_minor": 2
}
